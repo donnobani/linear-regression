{
 "cells": [
  {
   "cell_type": "markdown",
   "id": "fce7b1bb-3483-45fa-a1e4-e3d2b065760a",
   "metadata": {},
   "source": [
    "# Multiple Linear Regression"
   ]
  },
  {
   "cell_type": "markdown",
   "id": "d0b445bf-4402-415f-98bc-ffa166fe09b6",
   "metadata": {},
   "source": [
    "### Our Data:\n",
    "For the purposes of this notebook, we will be using a fuel consumption dataset. It contains model-specific fuel consumption ratings and estimated carbon dioxide emissions for light-duty vehicles being sold in canada.\n",
    "\n",
    "#### Our features include:\n",
    "- <code>MODELYEAR</code>\n",
    "- <code>MAKE</code>\n",
    "- <code>MODEL</code>\n",
    "- <code>VEHICLE CLASS</code>\n",
    "- <code>ENGINE SIZE</code>\n",
    "- <code>CYLINDERS</code>\n",
    "- <code>TRANSMISSION</code>\n",
    "- <code>FUEL CONSUMPTION in CITY (L/100KM)</code>\n",
    "- <code>FUEL CONSUMPTION in HWY (L/100KM)</code>\n",
    "- <code>FUEL CONSUMPTION COMB (L/100KM)</code>\n",
    "- <code>CO2 EMISSIONS (g/km)</code>"
   ]
  },
  {
   "cell_type": "markdown",
   "id": "7eae6248-52be-475d-ba72-29324290865f",
   "metadata": {
    "tags": []
   },
   "source": [
    "#### Importing required packages:"
   ]
  },
  {
   "cell_type": "code",
   "execution_count": 1,
   "id": "2963d271-8a8a-4ae1-8196-952e1bf52413",
   "metadata": {
    "tags": []
   },
   "outputs": [],
   "source": [
    "import matplotlib.pyplot as plt\n",
    "import pandas as pd\n",
    "import pylab as pl\n",
    "import numpy as np\n",
    "%matplotlib inline"
   ]
  },
  {
   "cell_type": "markdown",
   "id": "174e99d6-d09e-4cd7-a635-0bc6aafc85cc",
   "metadata": {},
   "source": [
    "#### Loading our dataset into dataframe:"
   ]
  },
  {
   "cell_type": "code",
   "execution_count": 2,
   "id": "daf3a6c9-3083-4ecc-88e2-e3275221a87c",
   "metadata": {
    "tags": []
   },
   "outputs": [
    {
     "name": "stdout",
     "output_type": "stream",
     "text": [
      "data loaded!\n"
     ]
    }
   ],
   "source": [
    "df = pd.read_csv('https://cf-courses-data.s3.us.cloud-object-storage.appdomain.cloud/IBMDeveloperSkillsNetwork-ML0101EN-SkillsNetwork/labs/Module%202/data/FuelConsumptionCo2.csv')\n",
    "print('data loaded!')"
   ]
  },
  {
   "cell_type": "markdown",
   "id": "dbcba958-9fb9-4897-b75b-524202c6f052",
   "metadata": {},
   "source": [
    "#### Selecting features we want to use for regression:"
   ]
  },
  {
   "cell_type": "code",
   "execution_count": 3,
   "id": "0b249181-1da9-45e8-8693-28286b26707b",
   "metadata": {
    "tags": []
   },
   "outputs": [
    {
     "data": {
      "text/html": [
       "<div>\n",
       "<style scoped>\n",
       "    .dataframe tbody tr th:only-of-type {\n",
       "        vertical-align: middle;\n",
       "    }\n",
       "\n",
       "    .dataframe tbody tr th {\n",
       "        vertical-align: top;\n",
       "    }\n",
       "\n",
       "    .dataframe thead th {\n",
       "        text-align: right;\n",
       "    }\n",
       "</style>\n",
       "<table border=\"1\" class=\"dataframe\">\n",
       "  <thead>\n",
       "    <tr style=\"text-align: right;\">\n",
       "      <th></th>\n",
       "      <th>ENGINESIZE</th>\n",
       "      <th>CYLINDERS</th>\n",
       "      <th>FUELCONSUMPTION_CITY</th>\n",
       "      <th>FUELCONSUMPTION_HWY</th>\n",
       "      <th>FUELCONSUMPTION_COMB</th>\n",
       "      <th>CO2EMISSIONS</th>\n",
       "    </tr>\n",
       "  </thead>\n",
       "  <tbody>\n",
       "    <tr>\n",
       "      <th>0</th>\n",
       "      <td>2.0</td>\n",
       "      <td>4</td>\n",
       "      <td>9.9</td>\n",
       "      <td>6.7</td>\n",
       "      <td>8.5</td>\n",
       "      <td>196</td>\n",
       "    </tr>\n",
       "    <tr>\n",
       "      <th>1</th>\n",
       "      <td>2.4</td>\n",
       "      <td>4</td>\n",
       "      <td>11.2</td>\n",
       "      <td>7.7</td>\n",
       "      <td>9.6</td>\n",
       "      <td>221</td>\n",
       "    </tr>\n",
       "    <tr>\n",
       "      <th>2</th>\n",
       "      <td>1.5</td>\n",
       "      <td>4</td>\n",
       "      <td>6.0</td>\n",
       "      <td>5.8</td>\n",
       "      <td>5.9</td>\n",
       "      <td>136</td>\n",
       "    </tr>\n",
       "    <tr>\n",
       "      <th>3</th>\n",
       "      <td>3.5</td>\n",
       "      <td>6</td>\n",
       "      <td>12.7</td>\n",
       "      <td>9.1</td>\n",
       "      <td>11.1</td>\n",
       "      <td>255</td>\n",
       "    </tr>\n",
       "    <tr>\n",
       "      <th>4</th>\n",
       "      <td>3.5</td>\n",
       "      <td>6</td>\n",
       "      <td>12.1</td>\n",
       "      <td>8.7</td>\n",
       "      <td>10.6</td>\n",
       "      <td>244</td>\n",
       "    </tr>\n",
       "  </tbody>\n",
       "</table>\n",
       "</div>"
      ],
      "text/plain": [
       "   ENGINESIZE  CYLINDERS  FUELCONSUMPTION_CITY  FUELCONSUMPTION_HWY  \\\n",
       "0         2.0          4                   9.9                  6.7   \n",
       "1         2.4          4                  11.2                  7.7   \n",
       "2         1.5          4                   6.0                  5.8   \n",
       "3         3.5          6                  12.7                  9.1   \n",
       "4         3.5          6                  12.1                  8.7   \n",
       "\n",
       "   FUELCONSUMPTION_COMB  CO2EMISSIONS  \n",
       "0                   8.5           196  \n",
       "1                   9.6           221  \n",
       "2                   5.9           136  \n",
       "3                  11.1           255  \n",
       "4                  10.6           244  "
      ]
     },
     "execution_count": 3,
     "metadata": {},
     "output_type": "execute_result"
    }
   ],
   "source": [
    "fts_df = df[['ENGINESIZE',\n",
    "             'CYLINDERS',\n",
    "             'FUELCONSUMPTION_CITY',\n",
    "             'FUELCONSUMPTION_HWY',\n",
    "             'FUELCONSUMPTION_COMB',\n",
    "             'CO2EMISSIONS']]\n",
    "fts_df.head()"
   ]
  },
  {
   "cell_type": "markdown",
   "id": "6e984c1a-38b6-4a85-95a4-bb0b7ed56864",
   "metadata": {},
   "source": [
    "#### Splitting data into training and testing set:"
   ]
  },
  {
   "cell_type": "code",
   "execution_count": 4,
   "id": "158fdb8c-b32e-4924-a878-4303404211e3",
   "metadata": {
    "tags": []
   },
   "outputs": [],
   "source": [
    "# 80% 20% Training and Testing split respectively\n",
    "mask = np.random.rand(len(df)) < 0.8\n",
    "train = fts_df[mask]\n",
    "test = fts_df[~mask]"
   ]
  },
  {
   "cell_type": "markdown",
   "id": "934e1a55-b9da-426f-9919-46e3bf8d3bdf",
   "metadata": {},
   "source": [
    "## Build our models:"
   ]
  },
  {
   "cell_type": "markdown",
   "id": "58e4f83f-45b9-493b-8364-a934839eafc3",
   "metadata": {},
   "source": [
    "#### MLR Model 1:\n",
    "Using <code>ENGINESIZE</code>, <code>CYLINDERS</code>, and <code>FUELCONSUMPTION_COMB</code> to predict <code>CO2EMISSIONS</code>"
   ]
  },
  {
   "cell_type": "code",
   "execution_count": 5,
   "id": "964490d6-6f2f-439f-acb2-735b5a9b870a",
   "metadata": {
    "tags": []
   },
   "outputs": [
    {
     "name": "stdout",
     "output_type": "stream",
     "text": [
      "Coef:  [[10.26847982  7.97934339  9.51341202]]\n"
     ]
    }
   ],
   "source": [
    "from sklearn import linear_model\n",
    "rr = linear_model.LinearRegression()\n",
    "x = np.asanyarray(train[['ENGINESIZE','CYLINDERS','FUELCONSUMPTION_COMB']])\n",
    "y = np.asanyarray(train[['CO2EMISSIONS']])\n",
    "rr.fit(x, y)\n",
    "print('Coef: ', rr.coef_)\n",
    "# sk estimates these from our data using Ordinary Least Squares\n",
    "# OLS can find the best params by using close-form equations or\n",
    "# by using an optimization algorithm "
   ]
  },
  {
   "cell_type": "markdown",
   "id": "6ecfa184-435a-4ec3-be6f-03e452a53a35",
   "metadata": {},
   "source": [
    "#### Predictions from Model 1:"
   ]
  },
  {
   "cell_type": "code",
   "execution_count": 6,
   "id": "a272d89d-52a9-4406-9e07-3ba051a4dc08",
   "metadata": {
    "tags": []
   },
   "outputs": [
    {
     "name": "stdout",
     "output_type": "stream",
     "text": [
      "MSE : 602.70\n",
      "Variance score: 0.86\n"
     ]
    }
   ],
   "source": [
    "y_hat = rr.predict(test[['ENGINESIZE','CYLINDERS','FUELCONSUMPTION_COMB']].values)\n",
    "x = np.asanyarray(test[['ENGINESIZE','CYLINDERS','FUELCONSUMPTION_COMB']].values)\n",
    "y = np.asanyarray(test[['CO2EMISSIONS']].values)\n",
    "print('MSE : %.2F' % np.mean((y_hat-y)**2))\n",
    "\n",
    "# Explained variance score: 1 is perfect prediction\n",
    "print('Variance score: %.2f' % rr.score(x, y))"
   ]
  },
  {
   "cell_type": "markdown",
   "id": "85329886-3170-49de-bb1b-4eb6287b3ec7",
   "metadata": {},
   "source": [
    "$\\texttt{explainedVariance}(y, \\hat{y}) = 1 - \\frac{Var\\{ y - \\hat{y}\\}}{Var\\{y\\}}$  "
   ]
  },
  {
   "cell_type": "markdown",
   "id": "cd464e4e-d987-4be9-aa13-eea4e8f1856d",
   "metadata": {},
   "source": [
    "#### MLR Model 2:\n",
    "Using <code>ENGINESIZE</code>, <code>CYLINDERS</code>, <code>FUELCONSUMPTION_HWY</code>, and <code>FUELCONSUMPTION_CITY</code>to predict <code>CO2EMISSIONS</code>\n",
    "\n",
    "Will using separate features for city and highway fuel consumption give us a more accurate model?"
   ]
  },
  {
   "cell_type": "code",
   "execution_count": 7,
   "id": "9bb8c549-4009-4965-b7eb-7af32e7e5f71",
   "metadata": {
    "tags": []
   },
   "outputs": [
    {
     "name": "stdout",
     "output_type": "stream",
     "text": [
      "Coef:  [[10.33029931  7.6443349   3.11936038  6.10756951]]\n"
     ]
    }
   ],
   "source": [
    "rr = linear_model.LinearRegression()\n",
    "x = np.asanyarray(train[['ENGINESIZE','CYLINDERS','FUELCONSUMPTION_HWY','FUELCONSUMPTION_CITY']])\n",
    "y = np.asanyarray(train[['CO2EMISSIONS']])\n",
    "rr.fit(x, y)\n",
    "print('Coef: ', rr.coef_)\n",
    "# sk estimates these from our data using Ordinary Least Squares\n",
    "# OLS can find the best params by using close-form equations or\n",
    "# by using an optimization algorithm "
   ]
  },
  {
   "cell_type": "markdown",
   "id": "5bb28a95-a10c-4dce-b9d4-2c016cc7fd1e",
   "metadata": {},
   "source": [
    "#### Predictions from Model 1:"
   ]
  },
  {
   "cell_type": "code",
   "execution_count": 8,
   "id": "e3c04188-7fd3-4dd9-8797-3b409d00e963",
   "metadata": {
    "tags": []
   },
   "outputs": [
    {
     "name": "stdout",
     "output_type": "stream",
     "text": [
      "MSE : 602.30\n",
      "Variance score: 0.86\n"
     ]
    }
   ],
   "source": [
    "y_hat = rr.predict(test[['ENGINESIZE','CYLINDERS','FUELCONSUMPTION_HWY','FUELCONSUMPTION_CITY']].values)\n",
    "x = np.asanyarray(test[['ENGINESIZE','CYLINDERS','FUELCONSUMPTION_HWY','FUELCONSUMPTION_CITY']].values)\n",
    "y = np.asanyarray(test[['CO2EMISSIONS']].values)\n",
    "print('MSE : %.2F' % np.mean((y_hat-y)**2))\n",
    "\n",
    "# Explained variance score: 1 is perfect prediction\n",
    "print('Variance score: %.2f' % rr.score(x, y))"
   ]
  },
  {
   "cell_type": "markdown",
   "id": "84faf4df-e9bd-4d97-9361-20ab6b78182c",
   "metadata": {},
   "source": [
    "##### Inference:\n",
    "The use of <code>FUELCONSUMPTION_CITY</code> and <code>FUELCONSUMPTION_HWY</code> instead of <code>FUELCONSUMPTION_COMB</code> resulted in no significant change in accuracy."
   ]
  }
 ],
 "metadata": {
  "kernelspec": {
   "display_name": "Python 3 (ipykernel)",
   "language": "python",
   "name": "python3"
  },
  "language_info": {
   "codemirror_mode": {
    "name": "ipython",
    "version": 3
   },
   "file_extension": ".py",
   "mimetype": "text/x-python",
   "name": "python",
   "nbconvert_exporter": "python",
   "pygments_lexer": "ipython3",
   "version": "3.11.3"
  }
 },
 "nbformat": 4,
 "nbformat_minor": 5
}
